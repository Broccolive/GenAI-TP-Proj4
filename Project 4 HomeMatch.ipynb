{
 "cells": [
  {
   "cell_type": "markdown",
   "id": "a108af04",
   "metadata": {},
   "source": [
    "This is a starter notebook for the project, you'll have to import the libraries you'll need, you can find a list of the ones available in this workspace in the requirements.txt file in this workspace. "
   ]
  },
  {
   "cell_type": "markdown",
   "id": "2be9a262",
   "metadata": {},
   "source": [
    "## Setting up environment"
   ]
  },
  {
   "cell_type": "code",
   "execution_count": 1,
   "id": "6554fd4c",
   "metadata": {},
   "outputs": [],
   "source": [
    "import os\n",
    "\n",
    "os.environ[\"OPENAI_API_KEY\"] = \"voc-183321194312667737058046757cd49b1d8b6.91865541\"\n",
    "os.environ[\"OPENAI_API_BASE\"] = \"https://openai.vocareum.com/v1\"\n",
    "\n",
    "from langchain.chat_models import ChatOpenAI\n",
    "from langchain.llms import OpenAI"
   ]
  },
  {
   "cell_type": "code",
   "execution_count": null,
   "id": "f0f50d54",
   "metadata": {},
   "outputs": [],
   "source": [
    "pip install chromadb"
   ]
  },
  {
   "cell_type": "code",
   "execution_count": null,
   "id": "343d8354",
   "metadata": {
    "scrolled": true
   },
   "outputs": [],
   "source": [
    "pip install sentence-transformers==2.2.2"
   ]
  },
  {
   "cell_type": "code",
   "execution_count": 2,
   "id": "cdd67071",
   "metadata": {
    "scrolled": true
   },
   "outputs": [
    {
     "name": "stderr",
     "output_type": "stream",
     "text": [
      "/opt/conda/lib/python3.10/site-packages/langchain/llms/openai.py:202: UserWarning: You are trying to use a chat model. This way of initializing it is no longer supported. Instead, please use: `from langchain.chat_models import ChatOpenAI`\n",
      "  warnings.warn(\n",
      "/opt/conda/lib/python3.10/site-packages/langchain/llms/openai.py:790: UserWarning: You are trying to use a chat model. This way of initializing it is no longer supported. Instead, please use: `from langchain.chat_models import ChatOpenAI`\n",
      "  warnings.warn(\n"
     ]
    }
   ],
   "source": [
    "# Libraries\n",
    "from langchain.embeddings.openai import OpenAIEmbeddings\n",
    "from langchain.vectorstores import Chroma\n",
    "from sentence_transformers import SentenceTransformer\n",
    "from langchain.prompts import PromptTemplate\n",
    "from langchain.prompts.few_shot import FewShotPromptTemplate\n",
    "\n",
    "model_name = \"gpt-3.5-turbo\"\n",
    "temperature = 0.0\n",
    "llm = OpenAI(model_name=model_name, temperature=temperature, max_tokens = 2000)"
   ]
  },
  {
   "cell_type": "markdown",
   "id": "728febd6",
   "metadata": {},
   "source": [
    "## Synthetic Data Generation\n",
    "#### Generating Real Estate Listings with an LLM\n",
    "use a Large Language Model (LLM) to generate at least 10 diverse and realistic real estate listings containing facts about the real estate."
   ]
  },
  {
   "cell_type": "code",
   "execution_count": 3,
   "id": "a0c0ebdd",
   "metadata": {},
   "outputs": [],
   "source": [
    "# Define the prompt for generating listings\n",
    "prompt_template = \"\"\"\n",
    "Generate 15 diverse real estate listings in a structured format:\n",
    "Index: [number]\n",
    "Neighborhood: [location in Singapore]\n",
    "Price: [SGD]\n",
    "Bedrooms and bathrooms: [Number]\n",
    "House Size: [Size in sqft]\n",
    "Features: [comma-separated]\n",
    "Neighborhood Description: [max 2 sentences]\n",
    "Ensure the listings are realistic and varied in style and price.\n",
    "\"\"\""
   ]
  },
  {
   "cell_type": "code",
   "execution_count": 4,
   "id": "01d27098",
   "metadata": {},
   "outputs": [],
   "source": [
    "# Function to generate listings\n",
    "def generate_real_estate_listings(prompt):\n",
    "    try:\n",
    "        # Call the OpenAI LLM to generate the listings\n",
    "        response = llm(prompt)\n",
    "        return response  # LangChain's OpenAI LLM directly returns the generated text\n",
    "    except Exception as e:\n",
    "        return f\"An error occurred: {e}\"\n",
    "\n",
    "# Generate the listings\n",
    "listings = generate_real_estate_listings(prompt_template)"
   ]
  },
  {
   "cell_type": "code",
   "execution_count": 5,
   "id": "13ba019b",
   "metadata": {},
   "outputs": [
    {
     "name": "stdout",
     "output_type": "stream",
     "text": [
      "Generated Real Estate Listings:\n",
      "1\n",
      "Neighborhood: Orchard\n",
      "Price: $5,000,000\n",
      "Bedrooms and bathrooms: 4 bedrooms, 3 bathrooms\n",
      "House Size: 2,500 sqft\n",
      "Features: Swimming pool, garden, high-end finishes\n",
      "Neighborhood Description: Orchard is a prestigious area known for its luxury shopping and dining options.\n",
      "\n",
      "2\n",
      "Neighborhood: Tiong Bahru\n",
      "Price: $1,200,000\n",
      "Bedrooms and bathrooms: 2 bedrooms, 2 bathrooms\n",
      "House Size: 1,000 sqft\n",
      "Features: Renovated kitchen, balcony, city views\n",
      "Neighborhood Description: Tiong Bahru is a trendy neighborhood with a mix of heritage buildings and modern cafes.\n",
      "\n",
      "3\n",
      "Neighborhood: Sentosa Cove\n",
      "Price: $10,000,000\n",
      "Bedrooms and bathrooms: 5 bedrooms, 5 bathrooms\n",
      "House Size: 5,000 sqft\n",
      "Features: Private yacht berth, waterfront views, rooftop terrace\n",
      "Neighborhood Description: Sentosa Cove is a luxurious waterfront enclave with exclusive amenities.\n",
      "\n",
      "4\n",
      "Neighborhood: Bukit Timah\n",
      "Price: $3,500,000\n",
      "Bedrooms and bathrooms: 3 bedrooms, 4 bathrooms\n",
      "House Size: 3,200 sqft\n",
      "Features: Gourmet kitchen, home office, landscaped garden\n",
      "Neighborhood Description: Bukit Timah is a sought-after residential area known for its lush greenery and prestigious schools.\n",
      "\n",
      "5\n",
      "Neighborhood: Katong\n",
      "Price: $1,800,000\n",
      "Bedrooms and bathrooms: 4 bedrooms, 2 bathrooms\n",
      "House Size: 1,800 sqft\n",
      "Features: Peranakan architecture, courtyard, modern updates\n",
      "Neighborhood Description: Katong is a vibrant neighborhood with a mix of heritage shophouses and trendy eateries.\n",
      "\n",
      "6\n",
      "Neighborhood: Holland Village\n",
      "Price: $2,500,000\n",
      "Bedrooms and bathrooms: 3 bedrooms, 3 bathrooms\n",
      "House Size: 2,000 sqft\n",
      "Features: Balcony, open-concept layout, proximity to amenities\n",
      "Neighborhood Description: Holland Village is a popular expat enclave with a lively dining and shopping scene.\n",
      "\n",
      "7\n",
      "Neighborhood: Jurong East\n",
      "Price: $800,000\n",
      "Bedrooms and bathrooms: 2 bedrooms, 1 bathroom\n",
      "House Size: 900 sqft\n",
      "Features: High floor, unblocked views, close to MRT station\n",
      "Neighborhood Description: Jurong East is a bustling commercial hub with shopping malls and entertainment options.\n",
      "\n",
      "8\n",
      "Neighborhood: Novena\n",
      "Price: $1,500,000\n",
      "Bedrooms and bathrooms: 3 bedrooms, 2 bathrooms\n",
      "House Size: 1,400 sqft\n",
      "Features: Renovated interiors, communal facilities, convenient location\n",
      "Neighborhood Description: Novena is a residential area with medical facilities, shopping malls, and dining options.\n",
      "\n",
      "9\n",
      "Neighborhood: East Coast\n",
      "Price: $4,000,000\n",
      "Bedrooms and bathrooms: 4 bedrooms, 4 bathrooms\n",
      "House Size: 3,500 sqft\n",
      "Features: Sea views, private pool, modern design\n",
      "Neighborhood Description: East Coast is a popular seaside area with parks, beaches, and seafood restaurants.\n",
      "\n",
      "10\n",
      "Neighborhood: Serangoon\n",
      "Price: $1,000,000\n",
      "Bedrooms and bathrooms: 3 bedrooms, 2 bathrooms\n",
      "House Size: 1,200 sqft\n",
      "Features: Renovated kitchen, balcony, proximity to schools\n",
      "Neighborhood Description: Serangoon is a family-friendly neighborhood with good transport links and amenities.\n",
      "\n",
      "11\n",
      "Neighborhood: Marina Bay\n",
      "Price: $15,000,000\n",
      "Bedrooms and bathrooms: 4 bedrooms, 5 bathrooms\n",
      "House Size: 4,500 sqft\n",
      "Features: Skyline views, luxury finishes, concierge services\n",
      "Neighborhood Description: Marina Bay is a prestigious waterfront district with iconic landmarks and high-end shopping.\n",
      "\n",
      "12\n",
      "Neighborhood: Woodlands\n",
      "Price: $600,000\n",
      "Bedrooms and bathrooms: 2 bedrooms, 1 bathroom\n",
      "House Size: 800 sqft\n",
      "Features: Renovated unit, greenery views, close to nature reserves\n",
      "Neighborhood Description: Woodlands is a residential area with parks, nature reserves, and good transport links.\n",
      "\n",
      "13\n",
      "Neighborhood: Chinatown\n",
      "Price: $2,000,000\n",
      "Bedrooms and bathrooms: 3 bedrooms, 2 bathrooms\n",
      "House Size: 1,600 sqft\n",
      "Features: Heritage shophouse, courtyard garden, modern amenities\n",
      "Neighborhood Description: Chinatown is a historic district with a mix of traditional and modern architecture, bustling markets, and cultural attractions.\n",
      "\n",
      "14\n",
      "Neighborhood: Clementi\n",
      "Price: $900,000\n",
      "Bedrooms and bathrooms: 3 bedrooms, 2 bathrooms\n",
      "House Size: 1,000 sqft\n",
      "Features: Renovated interiors, communal facilities, close to schools\n",
      "Neighborhood Description: Clementi is a residential area with good schools, shopping malls, and green spaces.\n",
      "\n",
      "15\n",
      "Neighborhood: Punggol\n",
      "Price: $700,000\n",
      "Bedrooms and bathrooms: 2 bedrooms, 2 bathrooms\n",
      "House Size: 900 sqft\n",
      "Features: Waterfront views, balcony, proximity to amenities\n",
      "Neighborhood Description: Punggol is a waterfront town with parks, cycling paths, and recreational facilities.\n"
     ]
    }
   ],
   "source": [
    "# Print and save the generated listings\n",
    "print(\"Generated Real Estate Listings:\")\n",
    "print(listings)"
   ]
  },
  {
   "cell_type": "code",
   "execution_count": 6,
   "id": "d9ac4733",
   "metadata": {},
   "outputs": [],
   "source": [
    "# Save the listings to a file for submission\n",
    "with open(\"listings.txt\", \"w\") as file:\n",
    "    file.write(listings)"
   ]
  },
  {
   "cell_type": "markdown",
   "id": "72bf9c0c",
   "metadata": {},
   "source": [
    "## Semantic Search"
   ]
  },
  {
   "cell_type": "markdown",
   "id": "67d83608",
   "metadata": {},
   "source": [
    "#### Creating a Vector Database and Storing Listings\n",
    "create a vector database and successfully store real estate listing embeddings within it. The database should effectively store and organize the embeddings generated from the LLM-created listings."
   ]
  },
  {
   "cell_type": "code",
   "execution_count": 7,
   "id": "0718db0c",
   "metadata": {},
   "outputs": [],
   "source": [
    "model_name = \"gpt-3.5-turbo\"\n",
    "temperature = 0.0\n",
    "llm = OpenAI(model_name=model_name, temperature=temperature, max_tokens = 900)"
   ]
  },
  {
   "cell_type": "code",
   "execution_count": 8,
   "id": "b60f45f5",
   "metadata": {},
   "outputs": [],
   "source": [
    "import numpy as np\n",
    "from sentence_transformers import SentenceTransformer\n",
    "import chromadb\n",
    "import os\n",
    "from typing import List, Union\n",
    "\n",
    "# Define the model to use for generating embeddings\n",
    "MODEL_NAME = 'paraphrase-MiniLM-L6-v2'"
   ]
  },
  {
   "cell_type": "code",
   "execution_count": 9,
   "id": "d2c35b59",
   "metadata": {},
   "outputs": [],
   "source": [
    "# Define the model to use for generating embeddings\n",
    "MODEL_NAME = 'paraphrase-MiniLM-L6-v2'"
   ]
  },
  {
   "cell_type": "code",
   "execution_count": 10,
   "id": "9a4d7960",
   "metadata": {},
   "outputs": [],
   "source": [
    "# Function to read and correctly parse listings from a text file\n",
    "def read_listings(file_path: str) -> List[str]:\n",
    "    \"\"\"\n",
    "    Reads listings from a text file, ensuring each listing is stored as a whole rather than line-by-line.\n",
    "    \n",
    "    Parameters:\n",
    "    file_path (str): Path to the text file containing listings.\n",
    "    \n",
    "    Returns:\n",
    "    List[str]: A list of properly formatted listings.\n",
    "    \"\"\"\n",
    "    with open(file_path, \"r\", encoding=\"utf-8\") as fh:\n",
    "        content = fh.read().strip()  # Read the whole file and strip leading/trailing whitespace\n",
    "    listings = content.split(\"\\n\\n\")  # Split listings by an empty line assuming each listing is separated\n",
    "    return [listing.replace(\"\\n\", \" \") for listing in listings]  # Ensure each listing is a single string"
   ]
  },
  {
   "cell_type": "code",
   "execution_count": 11,
   "id": "b413e131",
   "metadata": {},
   "outputs": [],
   "source": [
    "# Function to generate embeddings for listings\n",
    "def generate_embeddings(input_data: Union[str, List[str]]) -> np.ndarray:\n",
    "    \"\"\"\n",
    "    Generates embeddings for the given listings using Sentence Transformers.\n",
    "\n",
    "    Parameters:\n",
    "    input_data (Union[str, List[str]]): Single listing or list of listings.\n",
    "\n",
    "    Returns:\n",
    "    np.ndarray: Array of embeddings.\n",
    "    \"\"\"\n",
    "    model = SentenceTransformer(MODEL_NAME)\n",
    "    embeddings = model.encode(input_data)\n",
    "    return embeddings\n",
    "\n",
    "# Read and process listings\n",
    "listings = read_listings(\"listings.txt\")\n",
    "\n",
    "# Generate embeddings\n",
    "embeddings = generate_embeddings(listings)"
   ]
  },
  {
   "cell_type": "code",
   "execution_count": 12,
   "id": "24e75c3e",
   "metadata": {},
   "outputs": [],
   "source": [
    "# Ensure embeddings and listings match in length\n",
    "assert len(embeddings) == len(listings), \"Mismatch between embeddings and listings length!\"\n",
    "\n",
    "# Save embeddings for later use\n",
    "np.save(\"listings_embeddings.npy\", embeddings)\n",
    "\n",
    "# Initialize ChromaDB client\n",
    "client = chromadb.PersistentClient(path=\"./chroma_real_estate\")"
   ]
  },
  {
   "cell_type": "markdown",
   "id": "68396b1d",
   "metadata": {},
   "source": [
    "😠"
   ]
  },
  {
   "cell_type": "code",
   "execution_count": 13,
   "id": "f1ff846e",
   "metadata": {},
   "outputs": [],
   "source": [
    "# Check if collection exists and delete before re-adding to prevent duplicates\n",
    "collection_name = \"real_estate_listings\"\n",
    "existing_collections = client.list_collections()\n",
    "\n",
    "if collection_name in [col.name for col in existing_collections]:\n",
    "    client.delete_collection(name=collection_name)"
   ]
  },
  {
   "cell_type": "code",
   "execution_count": 14,
   "id": "7b0fe9e1",
   "metadata": {},
   "outputs": [
    {
     "name": "stdout",
     "output_type": "stream",
     "text": [
      "\n",
      "✅ Retrieved data sample:\n",
      "{'listing': '1 Neighborhood: Orchard Price: $5,000,000 Bedrooms and bathrooms: 4 bedrooms, 3 bathrooms House Size: 2,500 sqft Features: Swimming pool, garden, high-end finishes Neighborhood Description: Orchard is a prestigious area known for its luxury shopping and dining options.'}\n"
     ]
    }
   ],
   "source": [
    "# Create or get the collection\n",
    "collection = client.get_or_create_collection(name=collection_name)\n",
    "\n",
    "# Prepare data for insertion\n",
    "ids = [f\"listing_{i}\" for i in range(len(listings))]\n",
    "metadata = [{\"listing\": listing} for listing in listings]  # Ensure full listing is stored, not just one line\n",
    "# Prepare data for insertion\n",
    "ids = [f\"listing_{i}\" for i in range(len(listings))]\n",
    "metadata = [{\"listing\": listing} for listing in listings]  # Store the entire listing text\n",
    "\n",
    "# Add data to ChromaDB\n",
    "collection.add(\n",
    "    ids=ids,\n",
    "    embeddings=embeddings.tolist(),  # Convert numpy array to list\n",
    "    metadatas=metadata\n",
    ")\n",
    "\n",
    "# Retrieve and print a sample stored listing to confirm correct formatting\n",
    "retrieved_data = collection.get()\n",
    "print(\"\\n✅ Retrieved data sample:\")\n",
    "for item in retrieved_data['metadatas'][:1]:\n",
    "    print(item)"
   ]
  },
  {
   "cell_type": "code",
   "execution_count": 15,
   "id": "6fd62d0c",
   "metadata": {},
   "outputs": [
    {
     "name": "stdout",
     "output_type": "stream",
     "text": [
      "✅ Inserted 15 listings into 'real_estate_listings' collection.\n"
     ]
    }
   ],
   "source": [
    "# Confirm successful insertion\n",
    "print(f\"✅ Inserted {len(ids)} listings into '{collection_name}' collection.\")"
   ]
  },
  {
   "cell_type": "markdown",
   "id": "09918d13",
   "metadata": {},
   "source": [
    "#### Semantic Search of Listings Based on Buyer Preferences\n",
    "\n",
    "The application must include a functionality where listings are semantically searched based on given buyer preferences. The search should return listings that closely match the input preferences."
   ]
  },
  {
   "cell_type": "code",
   "execution_count": 16,
   "id": "9fd12ded",
   "metadata": {},
   "outputs": [],
   "source": [
    "# Define the model to use for generating embeddings\n",
    "model = SentenceTransformer(MODEL_NAME)\n",
    "\n",
    "# Initialize ChromaDB client\n",
    "client = chromadb.PersistentClient(path=\"./chroma_real_estate\")\n",
    "collection_name = \"real_estate_listings\"\n",
    "collection = client.get_or_create_collection(name=collection_name)"
   ]
  },
  {
   "cell_type": "code",
   "execution_count": 29,
   "id": "1c2c1825",
   "metadata": {},
   "outputs": [],
   "source": [
    "import re\n",
    "from sklearn.feature_extraction.text import ENGLISH_STOP_WORDS\n",
    "\n",
    "def extract_keywords(text):\n",
    "    \"\"\"Extracts key nouns and adjectives from a text while removing common stopwords.\"\"\"\n",
    "    text = text.lower()\n",
    "    words = re.findall(r'\\b[a-zA-Z]+\\b', text)  # Extract words only (no punctuation)\n",
    "    important_words = [word for word in words if word not in ENGLISH_STOP_WORDS]  # Remove stopwords\n",
    "    return set(important_words)  # Convert to set for matching\n",
    "\n",
    "def infer_budget(query):\n",
    "    \"\"\"Infer price budget from the query if any price-related terms exist.\"\"\"\n",
    "    price_mapping = {\n",
    "        \"cheap\": 500000,\n",
    "        \"affordable\": 800000,\n",
    "        \"budget-friendly\": 1000000,\n",
    "        \"mid-range\": 2000000,\n",
    "        \"luxury\": 5000000,\n",
    "        \"high-end\": 10000000\n",
    "    }\n",
    "    for term, price in price_mapping.items():\n",
    "        if term in query.lower():\n",
    "            return price\n",
    "    return None  # No budget constraint mentioned"
   ]
  },
  {
   "cell_type": "code",
   "execution_count": 31,
   "id": "0ca98065",
   "metadata": {},
   "outputs": [
    {
     "name": "stdout",
     "output_type": "stream",
     "text": [
      "\n",
      "🏡 Testing HomeMatch with Auto-Generated Queries:\n",
      "------------------------------------------------------\n",
      "\n",
      "📝 **Test Query 1:** I want a spacious 3-bedroom house with a modern kitchen for 2 million.\n",
      "🔹 Extracted Query Components: {'bedrooms': '3-bedroom', 'house_type': 'house', 'features': ['spacious', 'modern kitchen'], 'budget': '3'}\n",
      "\n",
      "🔍 **Matching Listings:**\n",
      "\n",
      "🔹 Match 1 (Adjusted Similarity Score: 0.02):\n",
      "2 Neighborhood: Tiong Bahru Price: $1,200,000 Bedrooms and bathrooms: 2 bedrooms, 2 bathrooms House Size: 1,000 sqft Features: Renovated kitchen, balcony, city views Neighborhood Description: Tiong Bahru is a trendy neighborhood with a mix of heritage buildings and modern cafes.\n",
      "✅ Matched Keywords: modern, house, kitchen\n",
      "\n",
      "🔹 Match 2 (Adjusted Similarity Score: 0.02):\n",
      "3 Neighborhood: Sentosa Cove Price: $10,000,000 Bedrooms and bathrooms: 5 bedrooms, 5 bathrooms House Size: 5,000 sqft Features: Private yacht berth, waterfront views, rooftop terrace Neighborhood Description: Sentosa Cove is a luxurious waterfront enclave with exclusive amenities.\n",
      "✅ Matched Keywords: house\n",
      "\n",
      "🔹 Match 3 (Adjusted Similarity Score: 0.02):\n",
      "4 Neighborhood: Bukit Timah Price: $3,500,000 Bedrooms and bathrooms: 3 bedrooms, 4 bathrooms House Size: 3,200 sqft Features: Gourmet kitchen, home office, landscaped garden Neighborhood Description: Bukit Timah is a sought-after residential area known for its lush greenery and prestigious schools.\n",
      "✅ Matched Keywords: house, kitchen\n",
      "\n",
      "🔹 Match 4 (Adjusted Similarity Score: 0.02):\n",
      "14 Neighborhood: Clementi Price: $900,000 Bedrooms and bathrooms: 3 bedrooms, 2 bathrooms House Size: 1,000 sqft Features: Renovated interiors, communal facilities, close to schools Neighborhood Description: Clementi is a residential area with good schools, shopping malls, and green spaces.\n",
      "✅ Matched Keywords: house\n",
      "\n",
      "🔹 Match 5 (Adjusted Similarity Score: 0.02):\n",
      "7 Neighborhood: Jurong East Price: $800,000 Bedrooms and bathrooms: 2 bedrooms, 1 bathroom House Size: 900 sqft Features: High floor, unblocked views, close to MRT station Neighborhood Description: Jurong East is a bustling commercial hub with shopping malls and entertainment options.\n",
      "✅ Matched Keywords: house\n",
      "\n",
      "--------------------------------------------------\n",
      "\n",
      "📝 **Test Query 2:** Looking for a luxury apartment near town with easy access to public transportation, budget 5M.\n",
      "🔹 Extracted Query Components: {'bedrooms': None, 'house_type': 'apartment', 'features': ['public transportation'], 'budget': '5'}\n",
      "\n",
      "🔍 **Matching Listings:**\n",
      "\n",
      "🔹 Match 1 (Adjusted Similarity Score: 0.02):\n",
      "4 Neighborhood: Bukit Timah Price: $3,500,000 Bedrooms and bathrooms: 3 bedrooms, 4 bathrooms House Size: 3,200 sqft Features: Gourmet kitchen, home office, landscaped garden Neighborhood Description: Bukit Timah is a sought-after residential area known for its lush greenery and prestigious schools.\n",
      "⚠️ No strong keyword matches found.\n",
      "\n",
      "🔹 Match 2 (Adjusted Similarity Score: 0.02):\n",
      "7 Neighborhood: Jurong East Price: $800,000 Bedrooms and bathrooms: 2 bedrooms, 1 bathroom House Size: 900 sqft Features: High floor, unblocked views, close to MRT station Neighborhood Description: Jurong East is a bustling commercial hub with shopping malls and entertainment options.\n",
      "⚠️ No strong keyword matches found.\n",
      "\n",
      "🔹 Match 3 (Adjusted Similarity Score: 0.02):\n",
      "2 Neighborhood: Tiong Bahru Price: $1,200,000 Bedrooms and bathrooms: 2 bedrooms, 2 bathrooms House Size: 1,000 sqft Features: Renovated kitchen, balcony, city views Neighborhood Description: Tiong Bahru is a trendy neighborhood with a mix of heritage buildings and modern cafes.\n",
      "⚠️ No strong keyword matches found.\n",
      "\n",
      "🔹 Match 4 (Adjusted Similarity Score: 0.02):\n",
      "13 Neighborhood: Chinatown Price: $2,000,000 Bedrooms and bathrooms: 3 bedrooms, 2 bathrooms House Size: 1,600 sqft Features: Heritage shophouse, courtyard garden, modern amenities Neighborhood Description: Chinatown is a historic district with a mix of traditional and modern architecture, bustling markets, and cultural attractions.\n",
      "⚠️ No strong keyword matches found.\n",
      "\n",
      "🔹 Match 5 (Adjusted Similarity Score: 0.02):\n",
      "9 Neighborhood: East Coast Price: $4,000,000 Bedrooms and bathrooms: 4 bedrooms, 4 bathrooms House Size: 3,500 sqft Features: Sea views, private pool, modern design Neighborhood Description: East Coast is a popular seaside area with parks, beaches, and seafood restaurants.\n",
      "⚠️ No strong keyword matches found.\n",
      "\n",
      "--------------------------------------------------\n",
      "\n",
      "📝 **Test Query 3:** Seeking a budget-friendly home with 2 bedrooms in a quiet suburban neighborhood, around 800K.\n",
      "🔹 Extracted Query Components: {'bedrooms': None, 'house_type': None, 'features': [], 'budget': '2'}\n",
      "\n",
      "🔍 **Matching Listings:**\n",
      "\n",
      "🔹 Match 1 (Adjusted Similarity Score: 0.02):\n",
      "2 Neighborhood: Tiong Bahru Price: $1,200,000 Bedrooms and bathrooms: 2 bedrooms, 2 bathrooms House Size: 1,000 sqft Features: Renovated kitchen, balcony, city views Neighborhood Description: Tiong Bahru is a trendy neighborhood with a mix of heritage buildings and modern cafes.\n",
      "✅ Matched Keywords: neighborhood, bedrooms\n",
      "\n",
      "🔹 Match 2 (Adjusted Similarity Score: 0.02):\n",
      "4 Neighborhood: Bukit Timah Price: $3,500,000 Bedrooms and bathrooms: 3 bedrooms, 4 bathrooms House Size: 3,200 sqft Features: Gourmet kitchen, home office, landscaped garden Neighborhood Description: Bukit Timah is a sought-after residential area known for its lush greenery and prestigious schools.\n",
      "✅ Matched Keywords: neighborhood, bedrooms, home\n",
      "\n",
      "🔹 Match 3 (Adjusted Similarity Score: 0.02):\n",
      "12 Neighborhood: Woodlands Price: $600,000 Bedrooms and bathrooms: 2 bedrooms, 1 bathroom House Size: 800 sqft Features: Renovated unit, greenery views, close to nature reserves Neighborhood Description: Woodlands is a residential area with parks, nature reserves, and good transport links.\n",
      "✅ Matched Keywords: neighborhood, bedrooms\n",
      "\n",
      "🔹 Match 4 (Adjusted Similarity Score: 0.02):\n",
      "6 Neighborhood: Holland Village Price: $2,500,000 Bedrooms and bathrooms: 3 bedrooms, 3 bathrooms House Size: 2,000 sqft Features: Balcony, open-concept layout, proximity to amenities Neighborhood Description: Holland Village is a popular expat enclave with a lively dining and shopping scene.\n",
      "✅ Matched Keywords: neighborhood, bedrooms\n",
      "\n",
      "🔹 Match 5 (Adjusted Similarity Score: 0.02):\n",
      "1 Neighborhood: Orchard Price: $5,000,000 Bedrooms and bathrooms: 4 bedrooms, 3 bathrooms House Size: 2,500 sqft Features: Swimming pool, garden, high-end finishes Neighborhood Description: Orchard is a prestigious area known for its luxury shopping and dining options.\n",
      "✅ Matched Keywords: neighborhood, bedrooms\n",
      "\n",
      "--------------------------------------------------\n",
      "\n",
      "📝 **Test Query 4:** Need a home with a swimming pool, a gym, and a garden for 3.5 million.\n",
      "🔹 Extracted Query Components: {'bedrooms': None, 'house_type': None, 'features': ['swimming pool', 'gym', 'garden'], 'budget': '3'}\n",
      "\n",
      "🔍 **Matching Listings:**\n",
      "\n",
      "🔹 Match 1 (Adjusted Similarity Score: 0.02):\n",
      "1 Neighborhood: Orchard Price: $5,000,000 Bedrooms and bathrooms: 4 bedrooms, 3 bathrooms House Size: 2,500 sqft Features: Swimming pool, garden, high-end finishes Neighborhood Description: Orchard is a prestigious area known for its luxury shopping and dining options.\n",
      "✅ Matched Keywords: swimming, garden, pool\n",
      "\n",
      "🔹 Match 2 (Adjusted Similarity Score: 0.02):\n",
      "4 Neighborhood: Bukit Timah Price: $3,500,000 Bedrooms and bathrooms: 3 bedrooms, 4 bathrooms House Size: 3,200 sqft Features: Gourmet kitchen, home office, landscaped garden Neighborhood Description: Bukit Timah is a sought-after residential area known for its lush greenery and prestigious schools.\n",
      "✅ Matched Keywords: home, garden\n",
      "\n",
      "🔹 Match 3 (Adjusted Similarity Score: 0.02):\n",
      "14 Neighborhood: Clementi Price: $900,000 Bedrooms and bathrooms: 3 bedrooms, 2 bathrooms House Size: 1,000 sqft Features: Renovated interiors, communal facilities, close to schools Neighborhood Description: Clementi is a residential area with good schools, shopping malls, and green spaces.\n",
      "⚠️ No strong keyword matches found.\n",
      "\n",
      "🔹 Match 4 (Adjusted Similarity Score: 0.02):\n",
      "3 Neighborhood: Sentosa Cove Price: $10,000,000 Bedrooms and bathrooms: 5 bedrooms, 5 bathrooms House Size: 5,000 sqft Features: Private yacht berth, waterfront views, rooftop terrace Neighborhood Description: Sentosa Cove is a luxurious waterfront enclave with exclusive amenities.\n",
      "⚠️ No strong keyword matches found.\n",
      "\n",
      "🔹 Match 5 (Adjusted Similarity Score: 0.02):\n",
      "7 Neighborhood: Jurong East Price: $800,000 Bedrooms and bathrooms: 2 bedrooms, 1 bathroom House Size: 900 sqft Features: High floor, unblocked views, close to MRT station Neighborhood Description: Jurong East is a bustling commercial hub with shopping malls and entertainment options.\n",
      "⚠️ No strong keyword matches found.\n",
      "\n",
      "--------------------------------------------------\n"
     ]
    }
   ],
   "source": [
    "def extract_query_components(query):\n",
    "    \"\"\"Extracts structured components like bedrooms, house type, features, and budget.\"\"\"\n",
    "    components = {\n",
    "        \"bedrooms\": re.search(r'(\\d+)-bedroom', query),\n",
    "        \"house_type\": re.search(r'(house|apartment|condo|villa|bungalow)', query),\n",
    "        \"features\": re.findall(r'(modern kitchen|spacious|swimming pool|gym|garden|balcony|public transportation)', query),\n",
    "        \"budget\": re.search(r'(\\d+[mk]?)', query)  # Looks for price indicators like '2M' or '500K'\n",
    "    }\n",
    "    \n",
    "    # Format extracted components\n",
    "    structured_query = {\n",
    "        \"bedrooms\": components[\"bedrooms\"].group() if components[\"bedrooms\"] else None,\n",
    "        \"house_type\": components[\"house_type\"].group() if components[\"house_type\"] else None,\n",
    "        \"features\": components[\"features\"] if components[\"features\"] else [],\n",
    "        \"budget\": components[\"budget\"].group() if components[\"budget\"] else None\n",
    "    }\n",
    "    \n",
    "    return structured_query\n",
    "\n",
    "print(\"\\n\\U0001F3E1 Testing HomeMatch with Auto-Generated Queries:\")\n",
    "print(\"------------------------------------------------------\")\n",
    "\n",
    "test_queries = [\n",
    "    \"I want a spacious 3-bedroom house with a modern kitchen for 2 million.\",\n",
    "    \"Looking for a luxury apartment near town with easy access to public transportation, budget 5M.\",\n",
    "    \"Seeking a budget-friendly home with 2 bedrooms in a quiet suburban neighborhood, around 800K.\",\n",
    "    \"Need a home with a swimming pool, a gym, and a garden for 3.5 million.\"\n",
    "]\n",
    "\n",
    "for idx, query in enumerate(test_queries, 1):\n",
    "    print(f\"\\n📝 **Test Query {idx}:** {query}\")\n",
    "    \n",
    "    # Extract structured components\n",
    "    query_components = extract_query_components(query)\n",
    "    print(f\"🔹 Extracted Query Components: {query_components}\")\n",
    "    \n",
    "    # Generate embedding for query\n",
    "    query_embedding = model.encode([query]).tolist()\n",
    "\n",
    "    # Perform semantic search in ChromaDB\n",
    "    query_results = collection.query(\n",
    "        query_embeddings=query_embedding,\n",
    "        n_results=5\n",
    "    )\n",
    "\n",
    "    # Extract query keywords\n",
    "    query_keywords = extract_keywords(query)\n",
    "\n",
    "    print(\"\\n🔍 **Matching Listings:**\")\n",
    "    \n",
    "    # Ensure valid results exist\n",
    "    if not query_results[\"metadatas\"]:\n",
    "        print(\"❌ No matching listings found.\")\n",
    "        continue\n",
    "\n",
    "    for i, (listing, score) in enumerate(zip(query_results[\"metadatas\"][0], query_results[\"distances\"][0])):\n",
    "        similarity_score = 1 / (1 + score)  # Normalize similarity score\n",
    "        \n",
    "        # Ensure listing is correctly formatted\n",
    "        if isinstance(listing, dict) and \"listing\" in listing:\n",
    "            listing_text = listing[\"listing\"].lower()\n",
    "            listing_price = int(re.search(r'\\$(\\d+[,\\d]*)', listing_text).group(1).replace(',', '')) if re.search(r'\\$(\\d+[,\\d]*)', listing_text) else None\n",
    "        else:\n",
    "            print(\"❌ Error: Unexpected data structure in query results.\")\n",
    "            continue\n",
    "\n",
    "        # Extract listing keywords\n",
    "        listing_keywords = extract_keywords(listing_text)\n",
    "        \n",
    "        # Find matched keywords\n",
    "        matched_keywords = query_keywords.intersection(listing_keywords)\n",
    "        \n",
    "        # Apply price adjustment if budget is present\n",
    "        if query_components[\"budget\"] and listing_price:\n",
    "            budget_value = int(re.sub(r'[^0-9]', '', query_components[\"budget\"])) * (1_000_000 if 'm' in query_components[\"budget\"].lower() else 1_000)\n",
    "            price_penalty = abs(listing_price - budget_value) / budget_value\n",
    "            similarity_score *= (1 - min(price_penalty, 0.3))  # Cap penalty at 30%\n",
    "        \n",
    "        print(f\"\\n🔹 Match {i+1} (Adjusted Similarity Score: {similarity_score:.2f}):\")\n",
    "        print(listing[\"listing\"])\n",
    "\n",
    "        # Show keyword matches\n",
    "        if matched_keywords:\n",
    "            print(f\"✅ Matched Keywords: {', '.join(matched_keywords)}\")\n",
    "        else:\n",
    "            print(\"⚠️ No strong keyword matches found.\")\n",
    "\n",
    "    print(\"\\n\" + \"-\" * 50)  # Separator for readability"
   ]
  },
  {
   "cell_type": "markdown",
   "id": "822c3f66",
   "metadata": {},
   "source": [
    "#### Test with personal input"
   ]
  },
  {
   "cell_type": "code",
   "execution_count": 33,
   "id": "95823d15",
   "metadata": {},
   "outputs": [
    {
     "name": "stdout",
     "output_type": "stream",
     "text": [
      "\n",
      "Please answer the following question to specify your preferenes:\n",
      "Please describe your ideal house. You may share details on your preferred neighbourhood, number of rooms, amenities, or more.\n",
      "I want a 2 person apartment with transport nearby. I want it affordable.\n"
     ]
    }
   ],
   "source": [
    "# Step 1: Collect buyer preferences\n",
    "questions = [   \n",
    "    \"Please describe your ideal house. You may share details on your preferred neighbourhood, number of rooms, amenities, or more.\"\n",
    "]\n",
    "\n",
    "print(\"\\nPlease answer the following question to specify your preferenes:\")\n",
    "answers = [input(q + \"\\n\") for q in questions]"
   ]
  },
  {
   "cell_type": "code",
   "execution_count": 34,
   "id": "de565d6f",
   "metadata": {},
   "outputs": [],
   "source": [
    "# Step 2: Convert preferences into an embedding\n",
    "preferences_text = \" \".join(answers)  # Combine answers into a single text\n",
    "preferences_embedding = model.encode(preferences_text)\n",
    "\n",
    "# Step 3: Query the ChromaDB database with user preferences\n",
    "query_results = collection.query(\n",
    "    query_embeddings=[preferences_embedding.tolist()],\n",
    "    n_results=5  # Retrieve top 5 most similar listings\n",
    ")"
   ]
  },
  {
   "cell_type": "code",
   "execution_count": 35,
   "id": "839a7833",
   "metadata": {
    "scrolled": false
   },
   "outputs": [
    {
     "name": "stdout",
     "output_type": "stream",
     "text": [
      "\n",
      "🏡 Here are the top matching properties for you:\n",
      "\n",
      "🔹 Match 1 (Similarity Score: 0.03):\n",
      "2 Neighborhood: Tiong Bahru Price: $1,200,000 Bedrooms and bathrooms: 2 bedrooms, 2 bathrooms House Size: 1,000 sqft Features: Renovated kitchen, balcony, city views Neighborhood Description: Tiong Bahru is a trendy neighborhood with a mix of heritage buildings and modern cafes.\n"
     ]
    }
   ],
   "source": [
    "print(\"\\n🏡 Here are the top matching properties for you:\")\n",
    "for i, (listing, score) in enumerate(zip(query_results[\"metadatas\"], query_results[\"distances\"][0])):\n",
    "    similarity_score = 1 / (1 + score)  # Convert distance to similarity score\n",
    "    print(f\"\\n🔹 Match {i+1} (Similarity Score: {similarity_score:.2f}):\")\n",
    "    \n",
    "    # Ensure correct metadata access\n",
    "    if isinstance(listing, list) and len(listing) > 0:\n",
    "        print(listing[0][\"listing\"])  # Access first dictionary in the list\n",
    "    else:\n",
    "        print(listing[\"listing\"])  # If it's already a dictionary"
   ]
  },
  {
   "cell_type": "markdown",
   "id": "ab84b8ee",
   "metadata": {},
   "source": [
    "## Augmented Response Generation"
   ]
  },
  {
   "cell_type": "markdown",
   "id": "c928ba20",
   "metadata": {},
   "source": [
    "#### Logic for Searching and Augmenting Listing Descriptions\n",
    "\n",
    "The project must demonstrate a logical flow where buyer preferences are used to search and then augment the description of real estate listings. The augmentation should personalize the listing without changing factual information."
   ]
  },
  {
   "cell_type": "code",
   "execution_count": 36,
   "id": "1b39efa3",
   "metadata": {},
   "outputs": [],
   "source": [
    "# Initialize ChromaDB client and connect to the collection\n",
    "client = chromadb.PersistentClient(path=\"./chroma_real_estate\")\n",
    "collection = client.get_collection(name=\"real_estate_listings\")"
   ]
  },
  {
   "cell_type": "code",
   "execution_count": 37,
   "id": "d780f65e",
   "metadata": {},
   "outputs": [],
   "source": [
    "# Chain of Thought Examples for Personalizing Listings\n",
    "example1 = {\n",
    "    \"buyer_preferences\": \"Looking for a modern 3-bedroom home with a large backyard for children and a pet-friendly neighborhood.\",\n",
    "    \"listing\": \"Spacious 3-bedroom house with an open-plan kitchen and a cozy living room.\",\n",
    "    \"personalized_listing\": \"\"\"This modern 3-bedroom home is perfect for a growing family. It features a spacious open-plan kitchen where you can prepare meals while keeping an eye on the kids. The backyard is large, ideal for outdoor activities, BBQ nights, and a safe space for pets to roam. The neighborhood is pet-friendly and includes nearby parks and walking trails for a comfortable, active lifestyle.\"\"\"\n",
    "}\n",
    "\n",
    "example2 = {\n",
    "    \"buyer_preferences\": \"Luxury apartment with a city view, close to public transport, ideal for a professional working in downtown.\",\n",
    "    \"listing\": \"High-rise condo with a balcony and modern amenities.\",\n",
    "    \"personalized_listing\": \"\"\"Experience the ultimate urban lifestyle in this luxurious high-rise condo, designed for professionals who seek convenience and elegance. The unit boasts a stunning city view from its private balcony, allowing you to unwind after a busy workday. Located just minutes away from major public transport hubs, this residence ensures a hassle-free commute to downtown offices, restaurants, and entertainment centers.\"\"\"\n",
    "}"
   ]
  },
  {
   "cell_type": "code",
   "execution_count": 38,
   "id": "78d00fe2",
   "metadata": {},
   "outputs": [],
   "source": [
    "# Define Prompt Template\n",
    "example_prompt = PromptTemplate(\n",
    "    input_variables=[\"buyer_preferences\", \"listing\", \"personalized_listing\"],\n",
    "    template=\"Buyer Preferences: {buyer_preferences}\\nOriginal Listing: {listing}\\nPersonalized Listing: {personalized_listing}\\n\"\n",
    ")\n",
    "\n",
    "# Create Few-Shot Prompt Template\n",
    "few_shot_prompt = FewShotPromptTemplate(\n",
    "    examples=[example1, example2],\n",
    "    example_prompt=example_prompt,\n",
    "    suffix=\"Buyer Preferences: {buyer_preferences}\\nOriginal Listing: {listing}\\nPersonalized Listing:\",\n",
    "    input_variables=[\"buyer_preferences\", \"listing\"]\n",
    ")"
   ]
  },
  {
   "cell_type": "code",
   "execution_count": 39,
   "id": "ced17eb9",
   "metadata": {},
   "outputs": [],
   "source": [
    "# Function to detect and correct factual inaccuracies\n",
    "def correct_factual_inaccuracies(original_listing: str, personalized_listing: str) -> str:\n",
    "    correction_prompt = f\"\"\"\n",
    "    Original Listing: {original_listing}\n",
    "    Personalized Listing: {personalized_listing}\n",
    "    \n",
    "    Ensure the personalized listing is factually accurate based on the original listing. Correct any inaccuracies while keeping it engaging.\n",
    "    \n",
    "    Corrected Personalized Listing:\n",
    "    \"\"\"\n",
    "    \n",
    "    return llm(correction_prompt).strip()"
   ]
  },
  {
   "cell_type": "markdown",
   "id": "1b1553df",
   "metadata": {},
   "source": [
    "#### Use of LLM for Generating Personalized Descriptions\n",
    "\n",
    "The submission must utilize an LLM to generate personalized descriptions for the real estate listings based on buyer preferences. The descriptions should be unique, appealing, and tailored to the preferences provided."
   ]
  },
  {
   "cell_type": "code",
   "execution_count": 40,
   "id": "648c7170",
   "metadata": {},
   "outputs": [],
   "source": [
    "# Function to personalize a listing with factual accuracy\n",
    "def personalize_listing(buyer_preferences: str, retrieved_listings: list):\n",
    "    \"\"\"\n",
    "    Personalizes real estate listings based on buyer's preferences using Chain of Thought reasoning.\n",
    "    Ensures factual accuracy by detecting and correcting inaccuracies.\n",
    "    \n",
    "    Parameters:\n",
    "    - buyer_preferences (str): Buyer's specific preferences.\n",
    "    - retrieved_listings (list): List of top matching listings.\n",
    "    \n",
    "    Returns:\n",
    "    - List of personalized listings.\n",
    "    \"\"\"\n",
    "    personalized_listings = []\n",
    "    \n",
    "    for listing in retrieved_listings:\n",
    "        prompt_text = few_shot_prompt.format(\n",
    "            buyer_preferences=buyer_preferences,\n",
    "            listing=listing[\"listing\"]\n",
    "        )\n",
    "        personalized_description = llm(prompt_text).strip()\n",
    "        \n",
    "        # Loop until factual accuracy is achieved\n",
    "        while True:\n",
    "            corrected_description = correct_factual_inaccuracies(listing[\"listing\"], personalized_description)\n",
    "            if corrected_description == personalized_description:\n",
    "                break  # Stop if no changes were made\n",
    "            personalized_description = corrected_description\n",
    "        \n",
    "        personalized_listings.append({\n",
    "            \"original_listing\": listing[\"listing\"],\n",
    "            \"personalized_listing\": personalized_description\n",
    "        })\n",
    "    \n",
    "    return personalized_listings"
   ]
  },
  {
   "cell_type": "code",
   "execution_count": 42,
   "id": "b58e149d",
   "metadata": {},
   "outputs": [
    {
     "name": "stdout",
     "output_type": "stream",
     "text": [
      "\n",
      "Please answer the following question to specify your preferences:\n",
      "Please describe your ideal house. You may share details on your preferred neighborhood, number of rooms, amenities, or more.\n",
      "I want a house for 4, modern style. My budget is 1M.\n"
     ]
    }
   ],
   "source": [
    "# Example usage\n",
    "print(\"\\nPlease answer the following question to specify your preferences:\")\n",
    "questions = [\"Please describe your ideal house. You may share details on your preferred neighborhood, number of rooms, amenities, or more.\"]\n",
    "buyer_query = input(questions[0] + \"\\n\")\n",
    "\n",
    "retrieved_listings = collection.query(\n",
    "    query_embeddings=[SentenceTransformer('paraphrase-MiniLM-L6-v2').encode(buyer_query).tolist()],\n",
    "    n_results=3\n",
    ")[\"metadatas\"][0]"
   ]
  },
  {
   "cell_type": "code",
   "execution_count": 44,
   "id": "19099095",
   "metadata": {},
   "outputs": [
    {
     "name": "stdout",
     "output_type": "stream",
     "text": [
      "\n",
      "=== Personalized Real Estate Listings ===\n",
      "\n",
      "1. **Original Listing:** 4 Neighborhood: Bukit Timah Price: $3,500,000 Bedrooms and bathrooms: 3 bedrooms, 4 bathrooms House Size: 3,200 sqft Features: Gourmet kitchen, home office, landscaped garden Neighborhood Description: Bukit Timah is a sought-after residential area known for its lush greenery and prestigious schools.\n",
      "\n",
      "   **Personalized Listing:** I have found a luxurious 3-bedroom house in Bukit Timah priced at $3,500,000. This spacious home boasts a gourmet kitchen, a home office, and a beautifully landscaped garden perfect for outdoor relaxation. Located in the sought-after residential area of Bukit Timah, known for its lush greenery and prestigious schools, this property offers a perfect blend of luxury and comfort. The house is 3,200 sqft in size. Contact me for more details and to schedule a viewing of this stunning property.\n",
      "\n",
      "2. **Original Listing:** 6 Neighborhood: Holland Village Price: $2,500,000 Bedrooms and bathrooms: 3 bedrooms, 3 bathrooms House Size: 2,000 sqft Features: Balcony, open-concept layout, proximity to amenities Neighborhood Description: Holland Village is a popular expat enclave with a lively dining and shopping scene.\n",
      "\n",
      "   **Personalized Listing:** I have found a modern 3-bedroom house in Holland Village priced at $2,500,000. This house offers 3 bathrooms and a spacious 2,000 sqft layout with a balcony, open-concept design, and convenient access to amenities. Holland Village is indeed a popular expat enclave known for its vibrant dining and shopping options. This property aligns with your budget and preferences, offering a sleek and contemporary living space. Feel free to reach out to me for more information and to arrange a viewing.\n",
      "\n",
      "3. **Original Listing:** 2 Neighborhood: Tiong Bahru Price: $1,200,000 Bedrooms and bathrooms: 2 bedrooms, 2 bathrooms House Size: 1,000 sqft Features: Renovated kitchen, balcony, city views Neighborhood Description: Tiong Bahru is a trendy neighborhood with a mix of heritage buildings and modern cafes.\n",
      "\n",
      "   **Personalized Listing:** I have the perfect modern 2-bedroom house for you within your budget of $1,200,000. This spacious home features a renovated kitchen, balcony, and city views, ideal for your modern lifestyle. With 2 bedrooms and 2 bathrooms, you'll have plenty of space for your family and guests. The house also includes modern amenities and finishes to enhance your living experience. Located in the trendy neighborhood of Tiong Bahru, known for its mix of heritage buildings and modern cafes, this home offers the perfect blend of style and convenience. Let's schedule a viewing so you can see this dream home in person!\n",
      "\n"
     ]
    }
   ],
   "source": [
    "# Generate personalized listings\n",
    "personalized_results = personalize_listing(buyer_query, retrieved_listings)\n",
    "\n",
    "# Print results\n",
    "print(\"\\n=== Personalized Real Estate Listings ===\\n\")\n",
    "for idx, result in enumerate(personalized_results, 1):\n",
    "    print(f\"{idx}. **Original Listing:** {result['original_listing']}\\n\")\n",
    "    print(f\"   **Personalized Listing:** {result['personalized_listing']}\\n\")\n"
   ]
  },
  {
   "cell_type": "code",
   "execution_count": 45,
   "id": "cd2b1fdb",
   "metadata": {},
   "outputs": [],
   "source": [
    "# Function to personalize a listing\n",
    "def personalize_listing(buyer_preferences: str, retrieved_listings: list):\n",
    "    \"\"\"\n",
    "    Personalizes real estate listings based on buyer's preferences using Chain of Thought reasoning.\n",
    "    \n",
    "    Parameters:\n",
    "    - buyer_preferences (str): Buyer's specific preferences.\n",
    "    - retrieved_listings (list): List of top matching listings.\n",
    "    \n",
    "    Returns:\n",
    "    - List of personalized listings.\n",
    "    \"\"\"\n",
    "    personalized_listings = []\n",
    "    \n",
    "    for listing in retrieved_listings:\n",
    "        prompt_text = few_shot_prompt.format(\n",
    "            buyer_preferences=buyer_preferences,\n",
    "            listing=listing[\"listing\"]\n",
    "        )\n",
    "        personalized_description = llm(prompt_text).strip()\n",
    "        \n",
    "        personalized_listings.append({\n",
    "            \"original_listing\": listing[\"listing\"],\n",
    "            \"personalized_listing\": personalized_description\n",
    "        })\n",
    "    \n",
    "    return personalized_listings"
   ]
  },
  {
   "cell_type": "code",
   "execution_count": 46,
   "id": "f9030c59",
   "metadata": {},
   "outputs": [],
   "source": [
    "# Example usage\n",
    "buyer_query = \"A cozy 2-bedroom apartment with a home office space, close to cafes and parks.\"\n",
    "retrieved_listings = collection.query(\n",
    "    query_embeddings=[SentenceTransformer('paraphrase-MiniLM-L6-v2').encode(buyer_query).tolist()],\n",
    "    n_results=3\n",
    ")[\"metadatas\"][0]\n",
    "\n",
    "# Generate personalized listings\n",
    "personalized_results = personalize_listing(buyer_query, retrieved_listings)"
   ]
  },
  {
   "cell_type": "code",
   "execution_count": 47,
   "id": "b2c68673",
   "metadata": {},
   "outputs": [
    {
     "name": "stdout",
     "output_type": "stream",
     "text": [
      "\n",
      "=== Personalized Real Estate Listings ===\n",
      "\n",
      "1. **Original Listing:** 2 Neighborhood: Tiong Bahru Price: $1,200,000 Bedrooms and bathrooms: 2 bedrooms, 2 bathrooms House Size: 1,000 sqft Features: Renovated kitchen, balcony, city views Neighborhood Description: Tiong Bahru is a trendy neighborhood with a mix of heritage buildings and modern cafes.\n",
      "\n",
      "   **Personalized Listing:** This cozy 2-bedroom apartment is perfect for those looking for a comfortable living space with a home office area. The renovated kitchen and balcony offer a peaceful retreat, while the city views add a touch of urban charm. Located in the trendy neighborhood of Tiong Bahru, you'll have easy access to cafes, parks, and a vibrant community atmosphere. Don't miss out on this opportunity to live in a stylish and convenient location.\n",
      "\n",
      "2. **Original Listing:** 4 Neighborhood: Bukit Timah Price: $3,500,000 Bedrooms and bathrooms: 3 bedrooms, 4 bathrooms House Size: 3,200 sqft Features: Gourmet kitchen, home office, landscaped garden Neighborhood Description: Bukit Timah is a sought-after residential area known for its lush greenery and prestigious schools.\n",
      "\n",
      "   **Personalized Listing:** Discover the perfect blend of comfort and convenience in this cozy 2-bedroom apartment, featuring a dedicated home office space for remote work or creative projects. Located in a vibrant neighborhood with charming cafes and picturesque parks just a short walk away, this residence offers a peaceful retreat in the heart of the city. Enjoy the best of both worlds with a tranquil living space and easy access to urban amenities.\n",
      "\n",
      "3. **Original Listing:** 14 Neighborhood: Clementi Price: $900,000 Bedrooms and bathrooms: 3 bedrooms, 2 bathrooms House Size: 1,000 sqft Features: Renovated interiors, communal facilities, close to schools Neighborhood Description: Clementi is a residential area with good schools, shopping malls, and green spaces.\n",
      "\n",
      "   **Personalized Listing:** This charming 2-bedroom apartment is perfect for those looking for a cozy space with a home office area. Located in a vibrant neighborhood with cafes and parks nearby, you can enjoy the convenience of city living while still having access to green spaces for relaxation. The apartment features renovated interiors and communal facilities for your enjoyment. Don't miss out on this opportunity to live in a comfortable and convenient home.\n",
      "\n"
     ]
    }
   ],
   "source": [
    "# Print results\n",
    "print(\"\\n=== Personalized Real Estate Listings ===\\n\")\n",
    "for idx, result in enumerate(personalized_results, 1):\n",
    "    print(f\"{idx}. **Original Listing:** {result['original_listing']}\\n\")\n",
    "    print(f\"   **Personalized Listing:** {result['personalized_listing']}\\n\")"
   ]
  }
 ],
 "metadata": {
  "kernelspec": {
   "display_name": "Python 3 (ipykernel)",
   "language": "python",
   "name": "python3"
  },
  "language_info": {
   "codemirror_mode": {
    "name": "ipython",
    "version": 3
   },
   "file_extension": ".py",
   "mimetype": "text/x-python",
   "name": "python",
   "nbconvert_exporter": "python",
   "pygments_lexer": "ipython3",
   "version": "3.10.11"
  }
 },
 "nbformat": 4,
 "nbformat_minor": 5
}
